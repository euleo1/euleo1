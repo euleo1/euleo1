{
  "nbformat": 4,
  "nbformat_minor": 0,
  "metadata": {
    "colab": {
      "provenance": [],
      "authorship_tag": "ABX9TyMHZDAiSbyTQC65MjQhFVjc",
      "include_colab_link": true
    },
    "kernelspec": {
      "name": "python3",
      "display_name": "Python 3"
    },
    "language_info": {
      "name": "python"
    }
  },
  "cells": [
    {
      "cell_type": "markdown",
      "metadata": {
        "id": "view-in-github",
        "colab_type": "text"
      },
      "source": [
        "<a href=\"https://colab.research.google.com/github/euleo1/euleo1/blob/main/Untitled12.ipynb\" target=\"_parent\"><img src=\"https://colab.research.google.com/assets/colab-badge.svg\" alt=\"Open In Colab\"/></a>"
      ]
    },
    {
      "cell_type": "code",
      "source": [
        "def calcular_media(notas):\n",
        "    \"\"\"\n",
        "    Calcula a média aritmética das notas fornecidas.\n",
        "\n",
        "    :param notas: Lista de três notas (inteiros) no intervalo de 0 a 10.\n",
        "    :return: Média aritmética das notas.\n",
        "    :raises ValueError: Se a lista de notas não contiver exatamente três elementos ou se as notas estiverem fora do intervalo permitido.\n",
        "    \"\"\"\n",
        "    # Verifica se o vetor de notas tem exatamente três elementos\n",
        "    if len(notas) != 3:\n",
        "        raise ValueError(\"O vetor de notas deve ter exatamente três elementos.\")\n",
        "\n",
        "    # Verifica se todas as notas estão dentro do intervalo permitido (0 a 10)\n",
        "    if not all(isinstance(nota, int) and 0 <= nota <= 10 for nota in notas):\n",
        "        raise ValueError(\"Todas as notas devem ser números inteiros entre 0 e 10.\")\n",
        "\n",
        "    # Calcula a média\n",
        "    soma = sum(notas)\n",
        "    media = soma / len(notas)\n",
        "    return media\n",
        "\n",
        "# Exemplo de uso da função\n",
        "notas = [7, 8, 9]  # Exemplo de notas dos alunos\n",
        "try:\n",
        "    media = calcular_media(notas)\n",
        "    print(f\"A média das notas é: {media:.2f}\")\n",
        "except ValueError as e:\n",
        "    print(e)\n"
      ],
      "metadata": {
        "colab": {
          "base_uri": "https://localhost:8080/"
        },
        "id": "XbTIH0Hzv6SN",
        "outputId": "c3b9f7b4-2502-4cef-9e4f-0539704d9445"
      },
      "execution_count": 5,
      "outputs": [
        {
          "output_type": "stream",
          "name": "stdout",
          "text": [
            "A média das notas é: 8.00\n"
          ]
        }
      ]
    }
  ]
}